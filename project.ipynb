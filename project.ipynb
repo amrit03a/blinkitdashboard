{
 "cells": [
  {
   "cell_type": "code",
   "execution_count": 3,
   "id": "42367a79-454d-4441-8d8d-61eed1db6320",
   "metadata": {},
   "outputs": [
    {
     "name": "stdout",
     "output_type": "stream",
     "text": [
      "['Regular' 'Low Fat']\n"
     ]
    }
   ],
   "source": [
    "import pandas as pd\n",
    "data=pd.read_excel(\"C:/Users/Amrit/Downloads/BlinkIT Grocery Data.xlsx\")\n",
    "#print(data)\n",
    "#print(data.columns.tolist())\n",
    "#print(data['Item Fat Content'].unique())\n",
    "data['Item Fat Content']=data['Item Fat Content'].replace({\n",
    "    'LF':'Low Fat',\n",
    "    'low fat':'Low Fat',\n",
    "    'reg':'Regular'\n",
    "})\n",
    "\n",
    "print(data['Item Fat Content'].unique())\n",
    "\n"
   ]
  },
  {
   "cell_type": "code",
   "execution_count": 14,
   "id": "774aa129-6c89-4e43-a3c7-cd108b4f25f2",
   "metadata": {},
   "outputs": [
    {
     "name": "stdout",
     "output_type": "stream",
     "text": [
      "  Item Fat Content Item Identifier              Item Type  \\\n",
      "0          Regular           FDX32  Fruits and Vegetables   \n",
      "1          Low Fat           NCB42     Health and Hygiene   \n",
      "2          Regular           FDR28           Frozen Foods   \n",
      "3          Regular           FDL50                 Canned   \n",
      "4          Low Fat           DRI25            Soft Drinks   \n",
      "5          Low Fat           FDS52           Frozen Foods   \n",
      "6          Low Fat           NCU05     Health and Hygiene   \n",
      "7          Low Fat           NCD30              Household   \n",
      "8          Low Fat           FDW20  Fruits and Vegetables   \n",
      "9          Low Fat           FDX25                 Canned   \n",
      "\n",
      "   Outlet Establishment Year Outlet Identifier Outlet Location Type  \\\n",
      "0                       2012            OUT049               Tier 1   \n",
      "1                       2022            OUT018               Tier 3   \n",
      "2                       2016            OUT046               Tier 1   \n",
      "3                       2014            OUT013               Tier 3   \n",
      "4                       2015            OUT045               Tier 2   \n",
      "5                       2020            OUT017               Tier 2   \n",
      "6                       2011            OUT010               Tier 3   \n",
      "7                       2015            OUT045               Tier 2   \n",
      "8                       2014            OUT013               Tier 3   \n",
      "9                       2018            OUT027               Tier 3   \n",
      "\n",
      "  Outlet Size        Outlet Type  Item Visibility  Item Weight     Sales  \\\n",
      "0      Medium  Supermarket Type1         0.100014        15.10  145.4786   \n",
      "1      Medium  Supermarket Type2         0.008596        11.80  115.3492   \n",
      "2       Small  Supermarket Type1         0.025896        13.85  165.0210   \n",
      "3        High  Supermarket Type1         0.042278        12.15  126.5046   \n",
      "4       Small  Supermarket Type1         0.033970        19.60   55.1614   \n",
      "5       Small  Supermarket Type1         0.005505         8.89  102.4016   \n",
      "6       Small      Grocery Store         0.098312        11.80   81.4618   \n",
      "7       Small  Supermarket Type1         0.026904        19.70   96.0726   \n",
      "8        High  Supermarket Type1         0.024129        20.75  124.1730   \n",
      "9      Medium  Supermarket Type3         0.101562          NaN  181.9292   \n",
      "\n",
      "   Rating  \n",
      "0     5.0  \n",
      "1     5.0  \n",
      "2     5.0  \n",
      "3     5.0  \n",
      "4     5.0  \n",
      "5     5.0  \n",
      "6     5.0  \n",
      "7     5.0  \n",
      "8     5.0  \n",
      "9     5.0  \n"
     ]
    }
   ],
   "source": [
    "print(data.head(10))"
   ]
  },
  {
   "cell_type": "code",
   "execution_count": 16,
   "id": "d016a6e0-7a92-45ce-8756-589d9c13f0eb",
   "metadata": {},
   "outputs": [
    {
     "name": "stdout",
     "output_type": "stream",
     "text": [
      "1201681.4928\n"
     ]
    }
   ],
   "source": [
    "sum=data['Sales'].sum()\n",
    "print(sum)"
   ]
  },
  {
   "cell_type": "code",
   "execution_count": 20,
   "id": "bd427197-6de9-45b3-8ad5-b67d78c3f6e0",
   "metadata": {},
   "outputs": [
    {
     "name": "stdout",
     "output_type": "stream",
     "text": [
      "average 140.99278338613163\n"
     ]
    }
   ],
   "source": [
    "avg=data['Sales'].mean()\n",
    "print(\"average\",avg)"
   ]
  },
  {
   "cell_type": "code",
   "execution_count": 22,
   "id": "ee9b4ef2-4b0a-47f7-aaf5-7e8410f71732",
   "metadata": {},
   "outputs": [
    {
     "name": "stdout",
     "output_type": "stream",
     "text": [
      "8523\n"
     ]
    }
   ],
   "source": [
    "print(len(data))"
   ]
  },
  {
   "cell_type": "code",
   "execution_count": 10,
   "id": "41344bb6-4fda-4896-bdb1-0959fae405f2",
   "metadata": {},
   "outputs": [
    {
     "name": "stdout",
     "output_type": "stream",
     "text": [
      "Item Fat Content\n",
      "Low Fat    776319.6884\n",
      "Regular    425361.8044\n",
      "Name: Sales, dtype: float64\n"
     ]
    }
   ],
   "source": [
    "import pandas as pd\n",
    "df=pd.DataFrame(data)\n",
    "#print(df)\n",
    "gp=data.groupby('Item Fat Content')['Sales'].sum()\n",
    "print(gp)"
   ]
  },
  {
   "cell_type": "code",
   "execution_count": 28,
   "id": "f8bfd392-a919-4b5a-a619-2e18e4169fe3",
   "metadata": {},
   "outputs": [
    {
     "name": "stdout",
     "output_type": "stream",
     "text": [
      "  Item Fat Content Outlet Size          sum\n",
      "0          Low Fat        High  122862.2920\n",
      "3          Regular        High  126129.2940\n",
      "5          Regular       Small  129565.8116\n",
      "4          Regular      Medium  169666.6988\n",
      "2          Low Fat       Small  315228.3588\n",
      "1          Low Fat      Medium  338229.0376\n"
     ]
    }
   ],
   "source": [
    "gp=data.groupby(['Item Fat Content','Outlet Size'])['Sales'].sum().reset_index()\n",
    "gp.columns=['Item Fat Content','Outlet Size','sum']\n",
    "gp=gp.sort_values(by='sum',ascending=True)\n",
    "print(gp)"
   ]
  },
  {
   "cell_type": "code",
   "execution_count": 21,
   "id": "99942aa0-33df-4656-ba6c-a246e0275e72",
   "metadata": {},
   "outputs": [
    {
     "name": "stdout",
     "output_type": "stream",
     "text": [
      "   outlet        sumof\n",
      "0    High  122862.2920\n",
      "1  Medium  338229.0376\n",
      "2   Small  315228.3588\n"
     ]
    }
   ],
   "source": [
    "finalsumoflowfat=gp['Low Fat'].reset_index()\n",
    "result.columns=['outlet size','sumof']\n",
    "print(result)"
   ]
  },
  {
   "cell_type": "code",
   "execution_count": 20,
   "id": "0bf721a9-d8dd-4fb7-a051-2fbca122a1a7",
   "metadata": {},
   "outputs": [
    {
     "name": "stdout",
     "output_type": "stream",
     "text": [
      "122862.292\n"
     ]
    }
   ],
   "source": [
    "finalsumoflowfat=gp['Low Fat']['High']\n",
    "print(finalsumoflowfat)"
   ]
  },
  {
   "cell_type": "code",
   "execution_count": 22,
   "id": "e15c1963-7ae5-4b93-aef3-abf4e950549c",
   "metadata": {},
   "outputs": [
    {
     "name": "stdout",
     "output_type": "stream",
     "text": [
      "     Item Fat Content Item Identifier              Item Type  \\\n",
      "0             Regular           FDX32  Fruits and Vegetables   \n",
      "1             Low Fat           NCB42     Health and Hygiene   \n",
      "2             Regular           FDR28           Frozen Foods   \n",
      "3             Regular           FDL50                 Canned   \n",
      "4             Low Fat           DRI25            Soft Drinks   \n",
      "...               ...             ...                    ...   \n",
      "8518          Low Fat           NCT53     Health and Hygiene   \n",
      "8519          Low Fat           FDN09            Snack Foods   \n",
      "8520          Low Fat           DRE13            Soft Drinks   \n",
      "8521          Regular           FDT50                  Dairy   \n",
      "8522          Regular           FDM58            Snack Foods   \n",
      "\n",
      "      Outlet Establishment Year Outlet Identifier Outlet Location Type  \\\n",
      "0                          2012            OUT049               Tier 1   \n",
      "1                          2022            OUT018               Tier 3   \n",
      "2                          2016            OUT046               Tier 1   \n",
      "3                          2014            OUT013               Tier 3   \n",
      "4                          2015            OUT045               Tier 2   \n",
      "...                         ...               ...                  ...   \n",
      "8518                       2018            OUT027               Tier 3   \n",
      "8519                       2018            OUT027               Tier 3   \n",
      "8520                       2018            OUT027               Tier 3   \n",
      "8521                       2018            OUT027               Tier 3   \n",
      "8522                       2018            OUT027               Tier 3   \n",
      "\n",
      "     Outlet Size        Outlet Type  Item Visibility  Item Weight     Sales  \\\n",
      "0         Medium  Supermarket Type1         0.100014        15.10  145.4786   \n",
      "1         Medium  Supermarket Type2         0.008596        11.80  115.3492   \n",
      "2          Small  Supermarket Type1         0.025896        13.85  165.0210   \n",
      "3           High  Supermarket Type1         0.042278        12.15  126.5046   \n",
      "4          Small  Supermarket Type1         0.033970        19.60   55.1614   \n",
      "...          ...                ...              ...          ...       ...   \n",
      "8518      Medium  Supermarket Type3         0.000000          NaN  164.5526   \n",
      "8519      Medium  Supermarket Type3         0.034706          NaN  241.6828   \n",
      "8520      Medium  Supermarket Type3         0.027571          NaN   86.6198   \n",
      "8521      Medium  Supermarket Type3         0.107715          NaN   97.8752   \n",
      "8522      Medium  Supermarket Type3         0.000000          NaN  112.2544   \n",
      "\n",
      "      Rating  \n",
      "0        5.0  \n",
      "1        5.0  \n",
      "2        5.0  \n",
      "3        5.0  \n",
      "4        5.0  \n",
      "...      ...  \n",
      "8518     4.0  \n",
      "8519     4.0  \n",
      "8520     4.0  \n",
      "8521     4.0  \n",
      "8522     4.0  \n",
      "\n",
      "[8523 rows x 12 columns]\n"
     ]
    }
   ],
   "source": [
    "print(data)"
   ]
  },
  {
   "cell_type": "code",
   "execution_count": 28,
   "id": "80535f0d-a533-4d51-a740-e8058e0a58ca",
   "metadata": {},
   "outputs": [
    {
     "name": "stdout",
     "output_type": "stream",
     "text": [
      "Outlet Establishment Year\n",
      "2011     78131.5666\n",
      "2012    130476.8598\n",
      "2014    131809.0156\n",
      "2015    130942.7802\n",
      "2016    132113.3698\n",
      "2017    133103.9070\n",
      "2018    204522.2570\n",
      "2020    129103.9604\n",
      "2022    131477.7764\n",
      "Name: Sales, dtype: float64\n",
      "130942.7802\n"
     ]
    }
   ],
   "source": [
    "gp=data.groupby('Outlet Establishment Year')['Sales'].sum()\n",
    "tf=gp[2015]\n",
    "print(gp)\n",
    "print(tf)"
   ]
  },
  {
   "cell_type": "code",
   "execution_count": 30,
   "id": "e8bb3f45-990d-4969-abe4-29548da8efd9",
   "metadata": {},
   "outputs": [
    {
     "name": "stdout",
     "output_type": "stream",
     "text": [
      "Outlet Establishment Year\n",
      "2011    140.777597\n",
      "2012    140.297699\n",
      "2014    141.425982\n",
      "2015    140.950248\n",
      "2016    142.057387\n",
      "2017    143.122481\n",
      "2018    139.796485\n",
      "2020    139.421124\n",
      "2022    141.678638\n",
      "Name: Sales, dtype: float64\n",
      "140.95024779332616\n"
     ]
    }
   ],
   "source": [
    "gp=data.groupby('Outlet Establishment Year')['Sales'].mean()\n",
    "tf=gp[2015]\n",
    "print(gp)\n",
    "print(tf)"
   ]
  },
  {
   "cell_type": "code",
   "execution_count": 32,
   "id": "6b5bbcbb-1667-4c69-84d0-4b8c06121a26",
   "metadata": {},
   "outputs": [
    {
     "name": "stdout",
     "output_type": "stream",
     "text": [
      "Outlet Establishment Year\n",
      "2011     555\n",
      "2012     930\n",
      "2014     932\n",
      "2015     929\n",
      "2016     930\n",
      "2017     930\n",
      "2018    1463\n",
      "2020     926\n",
      "2022     928\n",
      "Name: Sales, dtype: int64\n",
      "929\n"
     ]
    }
   ],
   "source": [
    "gp=data.groupby('Outlet Establishment Year')['Sales'].count()\n",
    "tf=gp[2015]\n",
    "print(gp)\n",
    "print(tf)"
   ]
  },
  {
   "cell_type": "code",
   "execution_count": 8,
   "id": "9413bbab-4c44-4b5b-a074-171e0a4d1765",
   "metadata": {},
   "outputs": [
    {
     "name": "stdout",
     "output_type": "stream",
     "text": [
      "     Item Fat Content Item Identifier              Item Type  \\\n",
      "4             Low Fat           DRI25            Soft Drinks   \n",
      "7             Low Fat           NCD30              Household   \n",
      "36            Low Fat           FDY07  Fruits and Vegetables   \n",
      "37            Regular           FDO45            Snack Foods   \n",
      "42            Low Fat           DRL11            Hard Drinks   \n",
      "...               ...             ...                    ...   \n",
      "7254          Regular           FDC59          Starchy Foods   \n",
      "7332          Low Fat           FDB52                  Dairy   \n",
      "7333          Low Fat           FDM44  Fruits and Vegetables   \n",
      "7338          Regular           FDI40           Frozen Foods   \n",
      "7339          Regular           FDI08  Fruits and Vegetables   \n",
      "\n",
      "      Outlet Establishment Year Outlet Identifier Outlet Location Type  \\\n",
      "4                          2015            OUT045               Tier 2   \n",
      "7                          2015            OUT045               Tier 2   \n",
      "36                         2015            OUT045               Tier 2   \n",
      "37                         2015            OUT045               Tier 2   \n",
      "42                         2015            OUT045               Tier 2   \n",
      "...                         ...               ...                  ...   \n",
      "7254                       2015            OUT045               Tier 2   \n",
      "7332                       2015            OUT045               Tier 2   \n",
      "7333                       2015            OUT045               Tier 2   \n",
      "7338                       2015            OUT045               Tier 2   \n",
      "7339                       2015            OUT045               Tier 2   \n",
      "\n",
      "     Outlet Size        Outlet Type  Item Visibility  Item Weight     Sales  \\\n",
      "4          Small  Supermarket Type1         0.033970        19.60   55.1614   \n",
      "7          Small  Supermarket Type1         0.026904        19.70   96.0726   \n",
      "36        Medium  Supermarket Type1         0.121848        11.80   46.8402   \n",
      "37        Medium  Supermarket Type1         0.038030        13.15   88.6856   \n",
      "42        Medium  Supermarket Type1         0.048116        10.50  159.0946   \n",
      "...          ...                ...              ...          ...       ...   \n",
      "7254        High  Supermarket Type1         0.054740        16.70   65.7168   \n",
      "7332      Medium  Supermarket Type1         0.030497        17.75  256.9672   \n",
      "7333      Medium  Supermarket Type1         0.031113        12.50  104.9990   \n",
      "7338      Medium  Supermarket Type1         0.125858        11.50  100.5358   \n",
      "7339      Medium  Supermarket Type1         0.066432        18.20  250.1092   \n",
      "\n",
      "      Rating  \n",
      "4        5.0  \n",
      "7        5.0  \n",
      "36       5.0  \n",
      "37       5.0  \n",
      "42       5.0  \n",
      "...      ...  \n",
      "7254     4.0  \n",
      "7332     4.0  \n",
      "7333     4.0  \n",
      "7338     4.0  \n",
      "7339     4.0  \n",
      "\n",
      "[929 rows x 12 columns]\n"
     ]
    }
   ],
   "source": [
    "data_2015 = data[data['Outlet Establishment Year'] == 2015]\n",
    "print(data_2015)\n"
   ]
  },
  {
   "cell_type": "code",
   "execution_count": 29,
   "id": "22bd36ff-b99d-4883-8fdd-27de2912eb59",
   "metadata": {},
   "outputs": [
    {
     "name": "stdout",
     "output_type": "stream",
     "text": [
      "['Item Fat Content', 'Item Identifier', 'Item Type', 'Outlet Establishment Year', 'Outlet Identifier', 'Outlet Location Type', 'Outlet Size', 'Outlet Type', 'Item Visibility', 'Item Weight', 'Sales', 'Rating']\n"
     ]
    }
   ],
   "source": [
    "print(data.columns.tolist())\n"
   ]
  },
  {
   "cell_type": "code",
   "execution_count": 3,
   "id": "80eed969-3e41-400b-8e39-e2d54a436d89",
   "metadata": {},
   "outputs": [
    {
     "name": "stdout",
     "output_type": "stream",
     "text": [
      "     Item Fat Content Item Identifier              Item Type  \\\n",
      "0             Regular           FDX32  Fruits and Vegetables   \n",
      "1             Low Fat           NCB42     Health and Hygiene   \n",
      "2             Regular           FDR28           Frozen Foods   \n",
      "3             Regular           FDL50                 Canned   \n",
      "4             Low Fat           DRI25            Soft Drinks   \n",
      "...               ...             ...                    ...   \n",
      "8518          Low Fat           NCT53     Health and Hygiene   \n",
      "8519          Low Fat           FDN09            Snack Foods   \n",
      "8520          Low Fat           DRE13            Soft Drinks   \n",
      "8521          Regular           FDT50                  Dairy   \n",
      "8522          Regular           FDM58            Snack Foods   \n",
      "\n",
      "      Outlet Establishment Year Outlet Identifier Outlet Location Type  \\\n",
      "0                          2012            OUT049               Tier 1   \n",
      "1                          2022            OUT018               Tier 3   \n",
      "2                          2016            OUT046               Tier 1   \n",
      "3                          2014            OUT013               Tier 3   \n",
      "4                          2015            OUT045               Tier 2   \n",
      "...                         ...               ...                  ...   \n",
      "8518                       2018            OUT027               Tier 3   \n",
      "8519                       2018            OUT027               Tier 3   \n",
      "8520                       2018            OUT027               Tier 3   \n",
      "8521                       2018            OUT027               Tier 3   \n",
      "8522                       2018            OUT027               Tier 3   \n",
      "\n",
      "     Outlet Size        Outlet Type  Item Visibility  Item Weight     Sales  \\\n",
      "0         Medium  Supermarket Type1         0.100014        15.10  145.4786   \n",
      "1         Medium  Supermarket Type2         0.008596        11.80  115.3492   \n",
      "2          Small  Supermarket Type1         0.025896        13.85  165.0210   \n",
      "3           High  Supermarket Type1         0.042278        12.15  126.5046   \n",
      "4          Small  Supermarket Type1         0.033970        19.60   55.1614   \n",
      "...          ...                ...              ...          ...       ...   \n",
      "8518      Medium  Supermarket Type3         0.000000          NaN  164.5526   \n",
      "8519      Medium  Supermarket Type3         0.034706          NaN  241.6828   \n",
      "8520      Medium  Supermarket Type3         0.027571          NaN   86.6198   \n",
      "8521      Medium  Supermarket Type3         0.107715          NaN   97.8752   \n",
      "8522      Medium  Supermarket Type3         0.000000          NaN  112.2544   \n",
      "\n",
      "      Rating  \n",
      "0        5.0  \n",
      "1        5.0  \n",
      "2        5.0  \n",
      "3        5.0  \n",
      "4        5.0  \n",
      "...      ...  \n",
      "8518     4.0  \n",
      "8519     4.0  \n",
      "8520     4.0  \n",
      "8521     4.0  \n",
      "8522     4.0  \n",
      "\n",
      "[8523 rows x 12 columns]\n"
     ]
    }
   ],
   "source": [
    "gp=pd.DataFrame(data)\n",
    "print(gp)"
   ]
  },
  {
   "cell_type": "code",
   "execution_count": 34,
   "id": "f289ee26-c2b5-4189-8565-c32767b61ca3",
   "metadata": {},
   "outputs": [
    {
     "data": {
      "text/html": [
       "<div>\n",
       "<style scoped>\n",
       "    .dataframe tbody tr th:only-of-type {\n",
       "        vertical-align: middle;\n",
       "    }\n",
       "\n",
       "    .dataframe tbody tr th {\n",
       "        vertical-align: top;\n",
       "    }\n",
       "\n",
       "    .dataframe thead th {\n",
       "        text-align: right;\n",
       "    }\n",
       "</style>\n",
       "<table border=\"1\" class=\"dataframe\">\n",
       "  <thead>\n",
       "    <tr style=\"text-align: right;\">\n",
       "      <th></th>\n",
       "      <th>Outlet Establishment Year</th>\n",
       "      <th>Sales_Count</th>\n",
       "    </tr>\n",
       "  </thead>\n",
       "  <tbody>\n",
       "    <tr>\n",
       "      <th>0</th>\n",
       "      <td>2011</td>\n",
       "      <td>555</td>\n",
       "    </tr>\n",
       "    <tr>\n",
       "      <th>1</th>\n",
       "      <td>2012</td>\n",
       "      <td>930</td>\n",
       "    </tr>\n",
       "    <tr>\n",
       "      <th>2</th>\n",
       "      <td>2014</td>\n",
       "      <td>932</td>\n",
       "    </tr>\n",
       "    <tr>\n",
       "      <th>3</th>\n",
       "      <td>2015</td>\n",
       "      <td>929</td>\n",
       "    </tr>\n",
       "    <tr>\n",
       "      <th>4</th>\n",
       "      <td>2016</td>\n",
       "      <td>930</td>\n",
       "    </tr>\n",
       "    <tr>\n",
       "      <th>5</th>\n",
       "      <td>2017</td>\n",
       "      <td>930</td>\n",
       "    </tr>\n",
       "    <tr>\n",
       "      <th>6</th>\n",
       "      <td>2018</td>\n",
       "      <td>1463</td>\n",
       "    </tr>\n",
       "    <tr>\n",
       "      <th>7</th>\n",
       "      <td>2020</td>\n",
       "      <td>926</td>\n",
       "    </tr>\n",
       "    <tr>\n",
       "      <th>8</th>\n",
       "      <td>2022</td>\n",
       "      <td>928</td>\n",
       "    </tr>\n",
       "  </tbody>\n",
       "</table>\n",
       "</div>"
      ],
      "text/plain": [
       "   Outlet Establishment Year  Sales_Count\n",
       "0                       2011          555\n",
       "1                       2012          930\n",
       "2                       2014          932\n",
       "3                       2015          929\n",
       "4                       2016          930\n",
       "5                       2017          930\n",
       "6                       2018         1463\n",
       "7                       2020          926\n",
       "8                       2022          928"
      ]
     },
     "execution_count": 34,
     "metadata": {},
     "output_type": "execute_result"
    }
   ],
   "source": [
    "data.groupby('Outlet Establishment Year').agg(Sales_Count=('Sales', 'count')).reset_index()"
   ]
  },
  {
   "cell_type": "code",
   "execution_count": 4,
   "id": "40124bb9-d272-46d2-89c7-e3796cbd811e",
   "metadata": {},
   "outputs": [
    {
     "name": "stdout",
     "output_type": "stream",
     "text": [
      "  Item Fat Content Outlet Size  total_sales   avg_sales  No_Of_Items  \\\n",
      "2          Low Fat       Small   47680.5058  135.455982          352   \n",
      "4          Regular      Medium   23271.0728  136.088145          171   \n",
      "0          Low Fat        High   24611.7440  145.631621          169   \n",
      "3          Regular        High   20444.4834  140.996437          145   \n",
      "1          Low Fat      Medium   10654.8000  145.956164           73   \n",
      "5          Regular       Small    2441.3544  152.584650           16   \n",
      "\n",
      "   Avg_Rating  \n",
      "2    3.948864  \n",
      "4    4.095906  \n",
      "0    3.998225  \n",
      "3    3.906897  \n",
      "1    3.995890  \n",
      "5    3.918750  \n"
     ]
    }
   ],
   "source": [
    "gp=pd.DataFrame(data)\n",
    "gp=gp[gp['Outlet Establishment Year']==2020]\n",
    "result = gp.groupby(['Item Fat Content','Outlet Size']).agg(\n",
    "    total_sales=('Sales','sum'),\n",
    "    avg_sales=('Sales', 'mean'),\n",
    "    No_Of_Items=('Sales', 'count'),  # Count items using 'Sales'\n",
    "    Avg_Rating=('Rating', 'mean')\n",
    ").reset_index()\n",
    "result=result.sort_values(by='No_Of_Items',ascending=False)\n",
    "print(result)"
   ]
  },
  {
   "cell_type": "code",
   "execution_count": 9,
   "id": "bf59f6bb-0efb-4cf4-8e79-f9c29a07041b",
   "metadata": {},
   "outputs": [
    {
     "name": "stdout",
     "output_type": "stream",
     "text": [
      "     Item Fat Content Item Identifier              Item Type  \\\n",
      "0             Regular           FDX32  Fruits and Vegetables   \n",
      "1             Low Fat           NCB42     Health and Hygiene   \n",
      "2             Regular           FDR28           Frozen Foods   \n",
      "3             Regular           FDL50                 Canned   \n",
      "4             Low Fat           DRI25            Soft Drinks   \n",
      "...               ...             ...                    ...   \n",
      "8518          Low Fat           NCT53     Health and Hygiene   \n",
      "8519          Low Fat           FDN09            Snack Foods   \n",
      "8520          Low Fat           DRE13            Soft Drinks   \n",
      "8521          Regular           FDT50                  Dairy   \n",
      "8522          Regular           FDM58            Snack Foods   \n",
      "\n",
      "      Outlet Establishment Year Outlet Identifier Outlet Location Type  \\\n",
      "0                          2012            OUT049               Tier 1   \n",
      "1                          2022            OUT018               Tier 3   \n",
      "2                          2016            OUT046               Tier 1   \n",
      "3                          2014            OUT013               Tier 3   \n",
      "4                          2015            OUT045               Tier 2   \n",
      "...                         ...               ...                  ...   \n",
      "8518                       2018            OUT027               Tier 3   \n",
      "8519                       2018            OUT027               Tier 3   \n",
      "8520                       2018            OUT027               Tier 3   \n",
      "8521                       2018            OUT027               Tier 3   \n",
      "8522                       2018            OUT027               Tier 3   \n",
      "\n",
      "     Outlet Size        Outlet Type  Item Visibility  Item Weight     Sales  \\\n",
      "0         Medium  Supermarket Type1         0.100014        15.10  145.4786   \n",
      "1         Medium  Supermarket Type2         0.008596        11.80  115.3492   \n",
      "2          Small  Supermarket Type1         0.025896        13.85  165.0210   \n",
      "3           High  Supermarket Type1         0.042278        12.15  126.5046   \n",
      "4          Small  Supermarket Type1         0.033970        19.60   55.1614   \n",
      "...          ...                ...              ...          ...       ...   \n",
      "8518      Medium  Supermarket Type3         0.000000          NaN  164.5526   \n",
      "8519      Medium  Supermarket Type3         0.034706          NaN  241.6828   \n",
      "8520      Medium  Supermarket Type3         0.027571          NaN   86.6198   \n",
      "8521      Medium  Supermarket Type3         0.107715          NaN   97.8752   \n",
      "8522      Medium  Supermarket Type3         0.000000          NaN  112.2544   \n",
      "\n",
      "      Rating  \n",
      "0        5.0  \n",
      "1        5.0  \n",
      "2        5.0  \n",
      "3        5.0  \n",
      "4        5.0  \n",
      "...      ...  \n",
      "8518     4.0  \n",
      "8519     4.0  \n",
      "8520     4.0  \n",
      "8521     4.0  \n",
      "8522     4.0  \n",
      "\n",
      "[8523 rows x 12 columns]\n"
     ]
    }
   ],
   "source": [
    "print(data)"
   ]
  },
  {
   "cell_type": "code",
   "execution_count": 5,
   "id": "9b72f0b2-fa74-4a21-a0fe-356a83547366",
   "metadata": {},
   "outputs": [
    {
     "name": "stdout",
     "output_type": "stream",
     "text": [
      "      Item Type  total_sales  count_sales   avg_sales\n",
      "0  Baking Goods   81894.7364          648  126.380766\n",
      "1        Breads   35379.1198          251  140.952669\n",
      "2     Breakfast   15596.6966          110  141.788151\n",
      "3        Canned   90706.7290          649  139.763835\n",
      "4         Dairy  101276.4616          682  148.499211\n"
     ]
    }
   ],
   "source": [
    "df=pd.DataFrame(data)\n",
    "#print(df)\n",
    "res=df.groupby('Item Type').agg(total_sales=('Sales','sum'),\n",
    "                             count_sales=('Sales','count'),\n",
    "                            avg_sales=('Sales','mean')\n",
    "                               ).reset_index()\n",
    "\n",
    "print(res.head(5))"
   ]
  },
  {
   "cell_type": "code",
   "execution_count": 6,
   "id": "446e59a8-dfc4-4e9b-a115-6e546a294719",
   "metadata": {},
   "outputs": [
    {
     "name": "stdout",
     "output_type": "stream",
     "text": [
      "Item Fat Content          Low Fat      Regular\n",
      "Outlet Location Type                          \n",
      "Tier 1                215047.9126  121349.8994\n",
      "Tier 2                254464.7794  138685.8682\n",
      "Tier 3                306806.9964  165326.0368\n"
     ]
    }
   ],
   "source": [
    "result=df.groupby(['Outlet Location Type','Item Fat Content']).agg(total_sum=('Sales','sum')).reset_index()\n",
    "#print(result)\n",
    "pivotdf = result.pivot(index='Outlet Location Type',columns='Item Fat Content',values='total_sum')\n",
    "\n",
    "print(pivotdf)\n"
   ]
  },
  {
   "cell_type": "code",
   "execution_count": 10,
   "id": "8b3b8e7a-6767-464a-82a1-d5cf37f5091a",
   "metadata": {},
   "outputs": [
    {
     "name": "stdout",
     "output_type": "stream",
     "text": [
      "Total Sales:\n",
      "Item Fat Content          Low Fat      Regular\n",
      "Outlet Location Type                          \n",
      "Tier 1                215047.9126  121349.8994\n",
      "Tier 2                254464.7794  138685.8682\n",
      "Tier 3                306806.9964  165326.0368\n",
      "\n",
      "Average Sales:\n",
      "Item Fat Content         Low Fat     Regular\n",
      "Outlet Location Type                        \n",
      "Tier 1                139.641502  143.101296\n",
      "Tier 2                140.665992  142.096176\n",
      "Tier 3                141.516142  139.869743\n",
      "\n",
      "Count of Sales:\n",
      "Item Fat Content      Low Fat  Regular\n",
      "Outlet Location Type                  \n",
      "Tier 1                   1540      848\n",
      "Tier 2                   1809      976\n",
      "Tier 3                   2168     1182\n"
     ]
    }
   ],
   "source": [
    "result = df.groupby(['Outlet Location Type', 'Item Fat Content']).agg(\n",
    "    total_sum=('Sales', 'sum'),\n",
    "    average_sales=('Sales', 'mean'),\n",
    "    count_sales=('Sales', 'count')\n",
    ").reset_index()\n",
    "pivot_sum = result.pivot(index='Outlet Location Type', columns='Item Fat Content', values='total_sum')\n",
    "pivot_avg = result.pivot(index='Outlet Location Type', columns='Item Fat Content', values='average_sales')\n",
    "pivot_count = result.pivot(index='Outlet Location Type', columns='Item Fat Content', values='count_sales')\n",
    "print(\"Total Sales:\")\n",
    "print(pivot_sum)\n",
    "print(\"\\nAverage Sales:\")\n",
    "print(pivot_avg)\n",
    "print(\"\\nCount of Sales:\")\n",
    "print(pivot_count)\n",
    "\n"
   ]
  },
  {
   "cell_type": "code",
   "execution_count": 25,
   "id": "b41e11b8-deeb-41d1-b193-f306191712a3",
   "metadata": {},
   "outputs": [
    {
     "name": "stdout",
     "output_type": "stream",
     "text": [
      "            total_sales\n",
      "Outlet Size            \n",
      "High             20.72%\n",
      "Medium           42.27%\n",
      "Small            37.01%\n"
     ]
    }
   ],
   "source": [
    "sales_by_outlet=df.groupby('Outlet Size').agg(total_sales=('Sales','sum'))\n",
    "#print(sales_by_outlet.sum())\n",
    "percentage=(sales_by_outlet/sales_by_outlet.sum())*100\n",
    "percentage=percentage.round(2).astype(str)+'%'\n",
    "print(percentage)"
   ]
  },
  {
   "cell_type": "code",
   "execution_count": 31,
   "id": "1c883c3c-167e-43bf-89f3-d48187480d91",
   "metadata": {},
   "outputs": [
    {
     "name": "stdout",
     "output_type": "stream",
     "text": [
      "         Outlet Type  total_sales  count_sales   avg_sales\n",
      "1  Supermarket Type1  787549.8928         5577  141.213895\n",
      "0      Grocery Store  151939.1490         1083  140.294690\n",
      "2  Supermarket Type2  131477.7764          928  141.678638\n",
      "3  Supermarket Type3  130714.6746          935  139.801791\n"
     ]
    }
   ],
   "source": [
    "location_sales=df.groupby('Outlet Type').agg(total_sales=('Sales','sum'), count_sales=('Sales','count'),\n",
    "                            avg_sales=('Sales','mean')\n",
    "                               ).reset_index()\n",
    "location_sales=location_sales.sort_values(by='total_sales',ascending=False)\n",
    "print(location_sales)"
   ]
  },
  {
   "cell_type": "code",
   "execution_count": null,
   "id": "2fd328f2-5b62-4eaa-bbd1-69a9763b0b25",
   "metadata": {},
   "outputs": [],
   "source": []
  }
 ],
 "metadata": {
  "kernelspec": {
   "display_name": "Python 3 (ipykernel)",
   "language": "python",
   "name": "python3"
  },
  "language_info": {
   "codemirror_mode": {
    "name": "ipython",
    "version": 3
   },
   "file_extension": ".py",
   "mimetype": "text/x-python",
   "name": "python",
   "nbconvert_exporter": "python",
   "pygments_lexer": "ipython3",
   "version": "3.13.3"
  }
 },
 "nbformat": 4,
 "nbformat_minor": 5
}
